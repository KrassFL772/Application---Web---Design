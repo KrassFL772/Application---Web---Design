{
  "nbformat": 4,
  "nbformat_minor": 0,
  "metadata": {
    "colab": {
      "provenance": [],
      "authorship_tag": "ABX9TyM+bbVxqh/aWzUwgQYB+R99",
      "include_colab_link": true
    },
    "kernelspec": {
      "name": "python3",
      "display_name": "Python 3"
    },
    "language_info": {
      "name": "python"
    }
  },
  "cells": [
    {
      "cell_type": "markdown",
      "metadata": {
        "id": "view-in-github",
        "colab_type": "text"
      },
      "source": [
        "<a href=\"https://colab.research.google.com/github/KrassFL772/Application---Web---Design/blob/master/Python.ipynb\" target=\"_parent\"><img src=\"https://colab.research.google.com/assets/colab-badge.svg\" alt=\"Open In Colab\"/></a>"
      ]
    },
    {
      "cell_type": "code",
      "execution_count": 3,
      "metadata": {
        "colab": {
          "base_uri": "https://localhost:8080/"
        },
        "id": "tkD0s6qN8077",
        "outputId": "e1b95394-6c6b-4634-de3a-abd3b4d3181d"
      },
      "outputs": [
        {
          "output_type": "stream",
          "name": "stdout",
          "text": [
            "               zona  capacidad_base_firme  uso_base_firme  \\\n",
            "0               Sur               1.52306         0.01585   \n",
            "1            Centro               2.84902         0.03021   \n",
            "2         Occidente               1.57302         0.01552   \n",
            "3             Golfo               3.06847         0.02751   \n",
            "4             Norte               4.34706         0.04460   \n",
            "..              ...                   ...             ...   \n",
            "67            Golfo               5.22776         0.02974   \n",
            "68            Norte               6.99284         0.04821   \n",
            "69            Istmo               7.25957         0.04692   \n",
            "70         Nacional               0.21971         0.00000   \n",
            "71  Nacional con AB              -0.72323         0.00000   \n",
            "\n",
            "    capacidad_base_temporal  uso_base_temporal  maxima_base_interrumpible  \\\n",
            "0                   1.53894            0.01585                    1.52392   \n",
            "1                   2.87937            0.03021                    2.85117   \n",
            "2                   1.58855            0.01552                    1.57293   \n",
            "3                   3.09649            0.02751                    3.06658   \n",
            "4                   4.39141            0.04460                    4.34791   \n",
            "..                      ...                ...                        ...   \n",
            "67                  5.25804            0.02974                    5.20679   \n",
            "68                  7.04078            0.04821                    6.97104   \n",
            "69                  7.30625            0.04692                    7.23531   \n",
            "70                  0.21971            0.00000                    0.21754   \n",
            "71                 -0.72323            0.00000                   -0.71607   \n",
            "\n",
            "    minima_base_interrumpible  volumetrica fecha_inicio   fecha_fin  \n",
            "0                     0.01585      1.64799   2016-01-01  2016-03-31  \n",
            "1                     0.03021      3.08510   2016-01-01  2016-03-31  \n",
            "2                     0.01552      1.70009   2016-01-01  2016-03-31  \n",
            "3                     0.02751      3.30889   2016-01-01  2016-03-31  \n",
            "4                     0.04460      4.70128   2016-01-01  2016-03-31  \n",
            "..                        ...          ...          ...         ...  \n",
            "67                    0.02974      5.71771   2017-10-01  2017-12-31  \n",
            "68                    0.04821      7.64526   2017-10-01  2017-12-31  \n",
            "69                    0.04692      8.44919   2017-10-01  2017-12-31  \n",
            "70                    0.00000      0.24039   2017-10-01  2017-12-31  \n",
            "71                    0.00000     -0.79139   2017-10-01  2017-12-31  \n",
            "\n",
            "[72 rows x 10 columns]\n"
          ]
        }
      ],
      "source": [
        "import pandas as leer\n",
        "\n",
        "tabla = leer.read_csv('/Tarifas por zonas 2016-2017.csv')\n",
        "\n",
        "print(tabla)\n"
      ]
    }
  ]
}